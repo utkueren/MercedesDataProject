{
 "cells": [
  {
   "cell_type": "markdown",
   "id": "79f1e7c4",
   "metadata": {},
   "source": [
    "# Mercedes Price Dataset İnceleme"
   ]
  },
  {
   "cell_type": "markdown",
   "id": "81419f35",
   "metadata": {},
   "source": [
    "Veri setim Mercedes marka arabaların üretim tarihi, vites türü, kilometre, vergi ücreti, mpg (1 litre ile kaç km yol gittiği), motor hacmi ve aracın ücretini içermekte."
   ]
  },
  {
   "cell_type": "markdown",
   "id": "8d0cb412",
   "metadata": {},
   "source": [
    "Bu veri setini kullanmadaki amacım Mercedes marka aracımın 2.el satış fiyatını belirlemek ve alıcılar için kolaylıklar sağlamak.\n",
    "Aynı zamanda alacağım yeni aracın analizini yapabilmek."
   ]
  },
  {
   "cell_type": "code",
   "execution_count": 1,
   "id": "e6017543",
   "metadata": {},
   "outputs": [],
   "source": [
    "import numpy as np\n",
    "import pandas as pd\n",
    "import seaborn as sns\n",
    "import matplotlib.pyplot as plt \n",
    "#uygulamamız sırasında kullanacağımız kütüphaneleri en başta ekledik."
   ]
  },
  {
   "cell_type": "code",
   "execution_count": 2,
   "id": "1a7f257c",
   "metadata": {},
   "outputs": [],
   "source": [
    "merc = pd.read_excel(\"merc.xlsx\")\n",
    "# excel üzerinden dataset imizi okuyoruz. Pandas kütüphanesini kullandık."
   ]
  },
  {
   "cell_type": "code",
   "execution_count": 3,
   "id": "fb960a50",
   "metadata": {},
   "outputs": [
    {
     "data": {
      "text/html": [
       "<div>\n",
       "<style scoped>\n",
       "    .dataframe tbody tr th:only-of-type {\n",
       "        vertical-align: middle;\n",
       "    }\n",
       "\n",
       "    .dataframe tbody tr th {\n",
       "        vertical-align: top;\n",
       "    }\n",
       "\n",
       "    .dataframe thead th {\n",
       "        text-align: right;\n",
       "    }\n",
       "</style>\n",
       "<table border=\"1\" class=\"dataframe\">\n",
       "  <thead>\n",
       "    <tr style=\"text-align: right;\">\n",
       "      <th></th>\n",
       "      <th>year</th>\n",
       "      <th>price</th>\n",
       "      <th>transmission</th>\n",
       "      <th>mileage</th>\n",
       "      <th>tax</th>\n",
       "      <th>mpg</th>\n",
       "      <th>engineSize</th>\n",
       "    </tr>\n",
       "  </thead>\n",
       "  <tbody>\n",
       "    <tr>\n",
       "      <th>0</th>\n",
       "      <td>2005</td>\n",
       "      <td>5200</td>\n",
       "      <td>Automatic</td>\n",
       "      <td>63000</td>\n",
       "      <td>325</td>\n",
       "      <td>32.1</td>\n",
       "      <td>1.8</td>\n",
       "    </tr>\n",
       "    <tr>\n",
       "      <th>1</th>\n",
       "      <td>2017</td>\n",
       "      <td>34948</td>\n",
       "      <td>Automatic</td>\n",
       "      <td>27000</td>\n",
       "      <td>20</td>\n",
       "      <td>61.4</td>\n",
       "      <td>2.1</td>\n",
       "    </tr>\n",
       "    <tr>\n",
       "      <th>2</th>\n",
       "      <td>2016</td>\n",
       "      <td>49948</td>\n",
       "      <td>Automatic</td>\n",
       "      <td>6200</td>\n",
       "      <td>555</td>\n",
       "      <td>28.0</td>\n",
       "      <td>5.5</td>\n",
       "    </tr>\n",
       "    <tr>\n",
       "      <th>3</th>\n",
       "      <td>2016</td>\n",
       "      <td>61948</td>\n",
       "      <td>Automatic</td>\n",
       "      <td>16000</td>\n",
       "      <td>325</td>\n",
       "      <td>30.4</td>\n",
       "      <td>4.0</td>\n",
       "    </tr>\n",
       "    <tr>\n",
       "      <th>4</th>\n",
       "      <td>2016</td>\n",
       "      <td>73948</td>\n",
       "      <td>Automatic</td>\n",
       "      <td>4000</td>\n",
       "      <td>325</td>\n",
       "      <td>30.1</td>\n",
       "      <td>4.0</td>\n",
       "    </tr>\n",
       "  </tbody>\n",
       "</table>\n",
       "</div>"
      ],
      "text/plain": [
       "   year  price transmission  mileage  tax   mpg  engineSize\n",
       "0  2005   5200    Automatic    63000  325  32.1         1.8\n",
       "1  2017  34948    Automatic    27000   20  61.4         2.1\n",
       "2  2016  49948    Automatic     6200  555  28.0         5.5\n",
       "3  2016  61948    Automatic    16000  325  30.4         4.0\n",
       "4  2016  73948    Automatic     4000  325  30.1         4.0"
      ]
     },
     "execution_count": 3,
     "metadata": {},
     "output_type": "execute_result"
    }
   ],
   "source": [
    "merc.head()\n",
    "# Veri setini ekrana yazdırdık"
   ]
  },
  {
   "cell_type": "code",
   "execution_count": 4,
   "id": "f3cc0b4d",
   "metadata": {},
   "outputs": [
    {
     "name": "stdout",
     "output_type": "stream",
     "text": [
      "Index: 0, Year: 2005, Price: 5200\n",
      "Index: 1, Year: 2017, Price: 34948\n",
      "Index: 2, Year: 2016, Price: 49948\n",
      "Index: 3, Year: 2016, Price: 61948\n",
      "Index: 4, Year: 2016, Price: 73948\n",
      "Index: 5, Year: 2011, Price: 149948\n",
      "Index: 6, Year: 2018, Price: 30948\n",
      "Index: 7, Year: 2012, Price: 10948\n",
      "Index: 8, Year: 2019, Price: 139948\n",
      "Index: 9, Year: 2017, Price: 19750\n",
      "Index: 10, Year: 2020, Price: 32980\n",
      "Index: 11, Year: 2020, Price: 26980\n",
      "Index: 12, Year: 2019, Price: 23750\n",
      "Index: 13, Year: 2019, Price: 67980\n",
      "Index: 14, Year: 2016, Price: 18980\n",
      "Index: 15, Year: 2017, Price: 15890\n",
      "Index: 16, Year: 2017, Price: 19890\n",
      "Index: 17, Year: 2019, Price: 56800\n",
      "Index: 18, Year: 2017, Price: 17513\n",
      "Index: 19, Year: 2014, Price: 15701\n",
      "Çok daha fazla satır var\n"
     ]
    }
   ],
   "source": [
    "# for döngüsü kullanarak veri setimizdeki yıl ve fiyat değerlerini inceledik\n",
    "# Görüntü kirliliği olmaması için sadece ilk 20 satırını gösterdim\n",
    "for index, row in merc.iterrows():\n",
    "    print(f\"Index: {index}, Year: {row['year']}, Price: {row['price']}\")\n",
    "    if index >= 19:\n",
    "        print('Çok daha fazla satır var')\n",
    "        break\n"
   ]
  },
  {
   "cell_type": "code",
   "execution_count": 13,
   "id": "25b503f6",
   "metadata": {},
   "outputs": [
    {
     "name": "stdout",
     "output_type": "stream",
     "text": [
      "Index: 2, Year: 2016, Price: 49948\n",
      "Index: 3, Year: 2016, Price: 61948\n",
      "Index: 4, Year: 2016, Price: 73948\n",
      "Index: 14, Year: 2016, Price: 18980\n",
      "Index: 21, Year: 2016, Price: 17672\n",
      "Index: 26, Year: 2016, Price: 25077\n",
      "Index: 29, Year: 2016, Price: 19328\n",
      "Index: 60, Year: 2016, Price: 14480\n",
      "Index: 77, Year: 2016, Price: 24880\n",
      "Index: 96, Year: 2016, Price: 37385\n",
      "Index: 104, Year: 2016, Price: 35371\n",
      "Index: 134, Year: 2016, Price: 16480\n",
      "Index: 136, Year: 2016, Price: 25780\n",
      "Index: 138, Year: 2016, Price: 17800\n",
      "Index: 140, Year: 2016, Price: 17890\n",
      "Index: 146, Year: 2016, Price: 19498\n",
      "Index: 149, Year: 2016, Price: 28498\n",
      "Index: 153, Year: 2016, Price: 27995\n",
      "Index: 157, Year: 2016, Price: 29995\n",
      "Index: 164, Year: 2016, Price: 20298\n",
      "Çok fazla eleman var.\n"
     ]
    }
   ],
   "source": [
    "count_limit = 20  # Sınır değeri\n",
    "# Çok eleman olduğu için hepsini göstermek istemedim\n",
    "# For döngüsü ve if kullanarak 2016 model arabaları incele\n",
    "count = 0  # Sayaç başlangıcı\n",
    "for index, row in merc.iterrows():\n",
    "    if row['year'] == 2016:\n",
    "        print(f\"Index: {index}, Year: {row['year']}, Price: {row['price']}\")\n",
    "        count += 1  # Her 2016 model araç için sayaç arttır\n",
    "        if count >= count_limit:\n",
    "            print(\"Çok fazla eleman var.\")\n",
    "            break  # Belirli bir sınırı aştığında döngüyü sonlandır\n",
    "\n"
   ]
  },
  {
   "cell_type": "code",
   "execution_count": 6,
   "id": "42416349",
   "metadata": {},
   "outputs": [
    {
     "name": "stdout",
     "output_type": "stream",
     "text": [
      "Yıl Bazında Ortalama Fiyatlar:\n",
      "year\n",
      "1970    24999.000000\n",
      "1997     9995.000000\n",
      "1998     8605.000000\n",
      "1999     5995.000000\n",
      "2000     5743.333333\n",
      "2001     4957.900000\n",
      "2002     5820.444444\n",
      "2003     4878.000000\n",
      "2004     4727.615385\n",
      "2005     4426.111111\n",
      "2006     4036.875000\n",
      "2007     5136.045455\n",
      "2008     6967.437500\n",
      "2009     6166.764706\n",
      "2010     8308.473684\n",
      "2011    12624.894737\n",
      "2012    10845.140351\n",
      "2013    11939.842466\n",
      "2014    14042.936864\n",
      "2015    16731.780020\n",
      "2016    19307.892948\n",
      "2017    21514.307854\n",
      "2018    25720.162918\n",
      "2019    31290.020865\n",
      "2020    35433.282337\n",
      "Name: price, dtype: float64\n"
     ]
    }
   ],
   "source": [
    "# Daha net inceleyebilmek için 2016 senesindeki ve diğer senelerdeki\n",
    "# araçların ortalama fiyalarını gösteren bir fonksiyon yazdım.\n",
    "\n",
    "# Yıl bazında ortalama fiyat hesaplayan fonksiyon\n",
    "def ortalama_fiyat_yila_gore(dataframe):\n",
    "    return dataframe.groupby('year')['price'].mean()\n",
    "\n",
    "print(\"Yıl Bazında Ortalama Fiyatlar:\")\n",
    "print(ortalama_fiyat_yila_gore(merc))\n",
    "\n",
    "# Bu fonksiyon ile veri setimdeki araçların yıl bazındaki fiyat ortalamalarını inceledim"
   ]
  },
  {
   "cell_type": "code",
   "execution_count": 7,
   "id": "bb850266",
   "metadata": {},
   "outputs": [
    {
     "name": "stdout",
     "output_type": "stream",
     "text": [
      "Sonuçlar:\n",
      "       year  price transmission  mileage  tax   mpg  engineSize\n",
      "153    2016  27995    Automatic    13000  200  40.9         2.0\n",
      "157    2016  29995    Automatic    27700  200  47.9         2.1\n",
      "1067   2016  19798    Automatic    17567  200  42.8         2.0\n",
      "1587   2016  28495    Automatic     9884  235  38.2         2.0\n",
      "2149   2016  19297    Automatic    21761  200  43.5         2.0\n",
      "2235   2016  27880    Automatic    11513  200  47.9         2.1\n",
      "2251   2016  27685    Automatic    13656  200  47.9         2.1\n",
      "2594   2016  25532    Automatic    15129  160  44.1         2.0\n",
      "2689   2016  20677    Automatic    11868  200  43.5         2.0\n",
      "3300   2016  22990    Automatic     6662  200  42.8         2.0\n",
      "3748   2016  17991    Automatic    29446  160  44.8         2.0\n",
      "3763   2016  19791    Automatic     6951  200  42.8         2.0\n",
      "4676   2016  25290    Automatic    23274  160  44.1         2.0\n",
      "6306   2016  32895    Automatic    20751  235  44.8         2.2\n",
      "7876   2016  23991    Automatic    27500  200  42.8         2.0\n",
      "9679   2016  28500    Automatic    20000  205  47.9         2.1\n",
      "9989   2016  21999    Automatic    11186  160  46.3         2.0\n",
      "10344  2016  18899    Automatic    21362  160  45.6         2.0\n",
      "10707  2016  20800    Automatic    22878  200  42.8         2.0\n",
      "10728  2016  20200    Automatic    16957  160  44.8         2.0\n",
      "10738  2016  20500    Automatic    15042  200  42.8         2.0\n",
      "11948  2016  19800    Automatic    27655  200  42.8         2.0\n",
      "12365  2016  18700    Automatic    25726  200  41.5         2.0\n"
     ]
    }
   ],
   "source": [
    "# kendi aracımın detaylarını biraz daha ekledim ve karşıma çıkan sonuçları biraz daha sınırlandırdım\n",
    "filtre = (merc['year'] == 2016) & (merc['mpg'] < 50) & (merc['transmission'] == 'Automatic') & (merc['engineSize'] < 2.5) & (merc ['mileage'] < 30000)\n",
    "sonuclar = merc[filtre]\n",
    "\n",
    "print(\"Sonuçlar:\")\n",
    "print(sonuclar)"
   ]
  },
  {
   "cell_type": "code",
   "execution_count": 8,
   "id": "14977cb7",
   "metadata": {},
   "outputs": [
    {
     "name": "stdout",
     "output_type": "stream",
     "text": [
      "Filtrelenen araçların 'price' değerlerinin ortalaması: 23465.217391304348\n"
     ]
    }
   ],
   "source": [
    "filtre = (merc['year'] == 2016) & (merc['mpg'] < 50) & (merc['transmission'] == 'Automatic') & (merc['engineSize'] < 2.5) & (merc['mileage'] < 30000)\n",
    "sonuclar = merc[filtre]\n",
    "\n",
    "if not sonuclar.empty:\n",
    "    ortalam_price = sonuclar['price'].mean()\n",
    "    print(f\"Filtrelenen araçların 'price' değerlerinin ortalaması: {ortalam_price}\")\n",
    "else:\n",
    "    print(\"Filtreye uyan araç bulunamadı.\")"
   ]
  },
  {
   "cell_type": "code",
   "execution_count": 9,
   "id": "07d2f9a4",
   "metadata": {},
   "outputs": [
    {
     "data": {
      "image/png": "[encoded data removed]",
      "text/plain": [
       "<Figure size 576x432 with 1 Axes>"
      ]
     },
     "metadata": {
      "needs_background": "light"
     },
     "output_type": "display_data"
    }
   ],
   "source": [
    "# Aracımın alıcılarının ilgisini kazanmak için elimdeki veri setinden\n",
    "# matplotlib kütüphanesini kullanarak bir grafik ortaya çıkardım\n",
    "\n",
    "# Aracımın ne kadar yaygın olduğu konusunda bilgi vermeyi amaçladım.\n",
    "# Bu grafiği yorumladığımızda otomatik vites olan arabamın satış miktarının orta derecede olduğu görünüyor\n",
    "# yani aracımı hem elden çıkarmak kolay, kullanımı kolay, hem de piyasası düşecek kadar yaygın değil\n",
    "# Bunu satış dosyama ekleyebileceğimi düşündüm\n",
    "\n",
    "# Bar grafiği\n",
    "plt.figure(figsize=(8, 6))\n",
    "sns.countplot(x='transmission', data=merc, palette='viridis')\n",
    "plt.title('Transmission Distribution')\n",
    "plt.xlabel('Transmission Type')\n",
    "plt.ylabel('Count')\n",
    "plt.show()"
   ]
  },
  {
   "cell_type": "code",
   "execution_count": 10,
   "id": "1306e924",
   "metadata": {},
   "outputs": [
    {
     "data": {
      "image/png": "[encoded data removed]",
      "text/plain": [
       "<Figure size 576x576 with 1 Axes>"
      ]
     },
     "metadata": {},
     "output_type": "display_data"
    }
   ],
   "source": [
    "#Bu da koyabileceğim farklı bir seçenek\n",
    "\n",
    "#Pasta Grafiği\n",
    "plt.figure(figsize=(8, 8))\n",
    "transmission_counts = merc['transmission'].value_counts()\n",
    "plt.pie(transmission_counts, labels=transmission_counts.index, autopct='%1.1f%%',\n",
    "        colors=['lightcoral', 'lightskyblue','green'])\n",
    "plt.title('Transmission Distribution')\n",
    "plt.show()"
   ]
  },
  {
   "cell_type": "code",
   "execution_count": 11,
   "id": "1399ae5f",
   "metadata": {},
   "outputs": [
    {
     "name": "stdout",
     "output_type": "stream",
     "text": [
      "Mercedes Jeep Ortalama Fiyatı: 24404.991708126036\n"
     ]
    }
   ],
   "source": [
    "# Aracımı sattıktan sonra almak istediğim araba otomatik vites 4 motorun üstünde bir mercedes jeep'ti\n",
    "# bu yüzden istediğim doğrultuda filtreleyip ortalama fiyatı görüntüleedim\n",
    "\n",
    "# 2020 model ve belirtilen koşulları sağlayan araçları filtrele\n",
    "filtrelenmis_merc = merc[(merc['transmission'] == 'Automatic') & (merc['mpg'] > 4.0)]\n",
    "\n",
    "# 'price' sütununu NumPy dizisine dönüştür\n",
    "prices = filtrelenmis_merc['price'].values\n",
    "\n",
    "# NumPy ile Ortalama fiyatı hesapla\n",
    "ortalama_fiyat = np.mean(prices)\n",
    "\n",
    "# Sonucu görüntüle\n",
    "print(f\"Mercedes Jeep Ortalama Fiyatı: {ortalama_fiyat}\")"
   ]
  },
  {
   "cell_type": "code",
   "execution_count": 12,
   "id": "b04ba083",
   "metadata": {
    "scrolled": true
   },
   "outputs": [
    {
     "data": {
      "image/png": "[encoded data removed]",
      "text/plain": [
       "<Figure size 576x576 with 1 Axes>"
      ]
     },
     "metadata": {},
     "output_type": "display_data"
    }
   ],
   "source": [
    "# Mercedes Jeep için isteklerim doğrultusunda Sahip olmam gereken parayı gördüm.\n",
    "# Piyasada bu arabaların ne kadar tutulduğunu bir grafik üzerinden görmek istedim.\n",
    "\n",
    "# Belirtilen koşulları sağlayan araçları filtrele\n",
    "filtrelenmis_merc = merc[(merc['transmission'] == 'Automatic') & (merc['mpg'] > 4.0)]\n",
    "\n",
    "# Filtrelenmiş ve toplam veri setinin eleman sayılarını hesapla\n",
    "filtrelenmis_sayi = len(filtrelenmis_merc)\n",
    "toplam_sayi = len(merc)\n",
    "kalan_sayi = toplam_sayi - filtrelenmis_sayi\n",
    "\n",
    "# Pasta grafiği verileri\n",
    "labels = ['Filtrelenmiş Veri', 'Diğer Veri']\n",
    "sizes = [filtrelenmis_sayi, kalan_sayi]\n",
    "colors = ['lightblue', 'lightgreen']\n",
    "explode = (0.1, 0)  # Filtrelenmiş veriyi vurgula\n",
    "\n",
    "# Pasta grafiğini çiz\n",
    "plt.figure(figsize=(8, 8))\n",
    "plt.pie(sizes, explode=explode, labels=labels, colors=colors, autopct='%1.1f%%', shadow=True, startangle=140)\n",
    "plt.title('Filtrelenmiş Verinin Toplam Veriye Oranı')\n",
    "plt.show()"
   ]
  },
  {
   "cell_type": "markdown",
   "id": "e24e773d",
   "metadata": {},
   "source": [
    "## Ortaya çıkan sonuç benim için yeterliydi.\n",
    "\n",
    "### Analiz sonucunda arabamı satabileceğim ortalama fiyatı gördüm.\n",
    "\n",
    "### Arabamı satacağım alıcılar için çeşitli grafikler oluşturdum ve bu grafiklerin açıklamalarının alıcıların ilgisini çekebileceğini düşünüyorum.\n",
    "\n",
    "### Arabamı sattıktan sonra almayı planladığım arabanın ortalama fiyatını inceledim ve artık gelecek planlarımı buna göre şekillendirebilirim.\n",
    "\n",
    "### Planladığım arabanın özelliklerini verisetindeki diğer arabalarla karşılaştırdım ve bunu bir grafik ile önizledim. Elimde oluşan bu veri istediğim arabanın piyasadaki yeri hakkında bana bilgi sağladı."
   ]
  },
  {
   "cell_type": "code",
   "execution_count": null,
   "id": "dd12d54f",
   "metadata": {},
   "outputs": [],
   "source": []
  }
 ],
 "metadata": {
  "kernelspec": {
   "display_name": "Python 3 (ipykernel)",
   "language": "python",
   "name": "python3"
  },
  "language_info": {
   "codemirror_mode": {
    "name": "ipython",
    "version": 3
   },
   "file_extension": ".py",
   "mimetype": "text/x-python",
   "name": "python",
   "nbconvert_exporter": "python",
   "pygments_lexer": "ipython3",
   "version": "3.10.4"
  }
 },
 "nbformat": 4,
 "nbformat_minor": 5
}
